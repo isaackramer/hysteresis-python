{
 "cells": [
  {
   "cell_type": "markdown",
   "metadata": {},
   "source": [
    "# Reversibility Index - 2 Inputs"
   ]
  },
  {
   "cell_type": "code",
   "execution_count": 173,
   "metadata": {},
   "outputs": [
    {
     "data": {
      "text/html": [
       "<script>\n",
       "code_show=true; \n",
       "function code_toggle() {\n",
       " if (code_show){\n",
       " $('div.input').hide();\n",
       " } else {\n",
       " $('div.input').show();\n",
       " }\n",
       " code_show = !code_show\n",
       "} \n",
       "$( document ).ready(code_toggle);\n",
       "</script>\n",
       "<form action=\"javascript:code_toggle()\"><input type=\"submit\" value=\"View/Hide Code\"></form>"
      ],
      "text/plain": [
       "<IPython.core.display.HTML object>"
      ]
     },
     "execution_count": 173,
     "metadata": {},
     "output_type": "execute_result"
    }
   ],
   "source": [
    "from IPython.display import HTML\n",
    "HTML('''<script>\n",
    "code_show=true; \n",
    "function code_toggle() {\n",
    " if (code_show){\n",
    " $('div.input').hide();\n",
    " } else {\n",
    " $('div.input').show();\n",
    " }\n",
    " code_show = !code_show\n",
    "} \n",
    "$( document ).ready(code_toggle);\n",
    "</script>\n",
    "<form action=\"javascript:code_toggle()\"><input type=\"submit\" value=\"View/Hide Code\"></form>''')"
   ]
  },
  {
   "cell_type": "code",
   "execution_count": 174,
   "metadata": {
    "scrolled": false
   },
   "outputs": [
    {
     "data": {
      "application/vnd.jupyter.widget-view+json": {
       "model_id": "90a0cf634ee24deeac7e94170e62cc94",
       "version_major": 2,
       "version_minor": 0
      },
      "text/plain": [
       "Canvas(toolbar=Toolbar(toolitems=[('Home', 'Reset original view', 'home', 'home'), ('Back', 'Back to previous …"
      ]
     },
     "metadata": {},
     "output_type": "display_data"
    },
    {
     "data": {
      "text/markdown": [
       "$\\sum_{k=0}^N \\sum(\\mu(\\alpha,\\beta,k)D(\\alpha,\\beta)) = $4.88"
      ],
      "text/plain": [
       "<IPython.core.display.Markdown object>"
      ]
     },
     "metadata": {},
     "output_type": "display_data"
    },
    {
     "data": {
      "text/markdown": [
       "$\\sum_{k=0}^N \\sum(\\mu(\\alpha,\\beta,k)) = $3.0"
      ],
      "text/plain": [
       "<IPython.core.display.Markdown object>"
      ]
     },
     "metadata": {},
     "output_type": "display_data"
    },
    {
     "data": {
      "text/markdown": [
       "$N = $2.0"
      ],
      "text/plain": [
       "<IPython.core.display.Markdown object>"
      ]
     },
     "metadata": {},
     "output_type": "display_data"
    },
    {
     "data": {
      "application/vnd.jupyter.widget-view+json": {
       "model_id": "35ca27d889a0462bbc841dffcf943b57",
       "version_major": 2,
       "version_minor": 0
      },
      "text/plain": [
       "Canvas(toolbar=Toolbar(toolitems=[('Home', 'Reset original view', 'home', 'home'), ('Back', 'Back to previous …"
      ]
     },
     "metadata": {},
     "output_type": "display_data"
    },
    {
     "data": {
      "text/markdown": [
       "$\\sum_{k=0}^M \\sum(\\mu(\\alpha,\\beta,k)D(\\alpha,\\beta)) = $1.82"
      ],
      "text/plain": [
       "<IPython.core.display.Markdown object>"
      ]
     },
     "metadata": {},
     "output_type": "display_data"
    },
    {
     "data": {
      "text/markdown": [
       "$\\sum_{k=0}^M \\sum(\\mu(\\alpha,\\beta,k)) = $5.0"
      ],
      "text/plain": [
       "<IPython.core.display.Markdown object>"
      ]
     },
     "metadata": {},
     "output_type": "display_data"
    },
    {
     "data": {
      "text/markdown": [
       "$M = $4.0"
      ],
      "text/plain": [
       "<IPython.core.display.Markdown object>"
      ]
     },
     "metadata": {},
     "output_type": "display_data"
    }
   ],
   "source": [
    "%matplotlib widget\n",
    "# %matplotlib notebook\n",
    "import matplotlib.pyplot as plt\n",
    "import numpy as np\n",
    "from matplotlib.gridspec import GridSpec\n",
    "from palettable.colorbrewer.sequential import YlGnBu_9\n",
    "from pandas import DataFrame\n",
    "from IPython.display import display, Markdown, Latex\n",
    "\n",
    "\n",
    "class F(object):\n",
    "    def __init__(self,b_g,a_g,n,w,f):                \n",
    "        self.beta_grid = b_g # Beta grid\n",
    "        self.alpha_grid = a_g # Alpha grid\n",
    "        self.distance = (self.alpha_grid - self.beta_grid)/np.sqrt(2) # Grid of the distance from diagonal\n",
    "        self.N = n # Number of weights / Maximum input of the other expression \n",
    "        self.u_max = np.max(self.beta_grid) # Maximum input / Number of weights of the other expression \n",
    "        self.weight = w # 3D array of weights\n",
    "        \n",
    "        # Plotting stuff\n",
    "        self.axe_plot = {}\n",
    "        self.figure_num = f\n",
    "    \n",
    "    # R index functions\n",
    "    \n",
    "    def I_mu_D(self,mu): \n",
    "        return np.nansum(mu*self.distance)\n",
    "    def I_mu(self,mu):\n",
    "        return np.nansum(mu)\n",
    "    def R_exp(self):\n",
    "        self.numerator = 0\n",
    "        self.denumerator = 0\n",
    "        for i in range(self.N):\n",
    "            self.numerator = self.numerator + self.I_mu_D(self.weight[i,:,:])\n",
    "            self.denumerator = self.denumerator + self.I_mu(self.weight[i,:,:])\n",
    "        return (self.numerator*np.sqrt(2))/((self.denumerator*self.u_max))\n",
    "    \n",
    "    \n",
    "    \n",
    "    def plot_weight(self):\n",
    "        #Plot\n",
    "        self.fig = plt.figure(self.figure_num, figsize=(1,1))\n",
    "        w_r = [1 for i in range(self.N)]\n",
    "        gs = GridSpec(1, self.N,\n",
    "                             left=0.0175, right=1,  \n",
    "                             bottom=0.25, top=1,\n",
    "                             wspace=0.3, hspace=0)\n",
    "        for i in range(self.N):\n",
    "            self.axe_plot.update({i:plt.subplot(gs[0, i])})\n",
    "        for i in range(self.N):\n",
    "            self.axe_plot[i].imshow(\n",
    "                                    self.weight[i,:,:],\n",
    "                                    cmap=YlGnBu_9.mpl_colormap,\n",
    "                                    vmax=np.nanmax(self.weight[i,:,:]),\n",
    "                                    vmin=np.nanmin(self.weight[i,:,:])\n",
    "                                   )\n",
    "            for b in range(len(self.beta_grid[0,:])):  \n",
    "                for a in range(len(self.alpha_grid[0,:])): \n",
    "                    self.axe_plot[i].annotate(np.around(self.weight[i,a,b],2),\n",
    "                                              (self.beta_grid[a,b]-0.25, self.alpha_grid[a,b]),size=6,color=\"red\")\n",
    "            self.axe_plot[i].set_aspect('equal', adjustable='box')\n",
    "            self.axe_plot[i].spines['top'].set_visible(False)\n",
    "            self.axe_plot[i].spines['right'].set_visible(False)\n",
    "            self.axe_plot[i].set_title(i)\n",
    "            self.axe_plot[i].set_xlim([-0.5,self.u_max+0.5])\n",
    "            self.axe_plot[i].set_ylim([-0.5,self.u_max+0.5])\n",
    "            # Calculating the R of each weight as individual\n",
    "            self.axe_plot[i].set_xlabel(\n",
    "                                            r'$\\sum(\\mu(\\alpha,\\beta)D(\\alpha,\\beta))$='\n",
    "                                            +str(np.around(self.I_mu_D(self.weight[i,:,:]),2))\n",
    "                                            +\"\\n\"+r'$\\sum(\\mu(\\alpha,\\beta))$='\n",
    "                                            +str(np.around(self.I_mu(self.weight[i,:,:]),2))\n",
    "                                            +\"\\nR.I. = \"\n",
    "                                            +str(np.around(1-(self.I_mu_D((self.weight[i,:,:])*np.sqrt(2))/(I_mu(self.weight[i,:,:])*self.u_max)),4))\n",
    "                                       \n",
    "                                        ,size=9.5)\n",
    "    def Macro_info(self):\n",
    "            self.R_exp()\n",
    "            if self.figure_num == 1:\n",
    "                display(Markdown(r'$\\sum_{k=0}^N \\sum(\\mu(\\alpha,\\beta,k)D(\\alpha,\\beta)) = $'\n",
    "                                 +str(np.around(self.numerator,2))))\n",
    "                display(Markdown(r'$\\sum_{k=0}^N \\sum(\\mu(\\alpha,\\beta,k)) = $'\n",
    "                                 +str(np.around(self.denumerator,2))))\n",
    "                display(Markdown(r'$N = $'+str(float(self.N)-1)))\n",
    "            else:\n",
    "                display(Markdown(r'$\\sum_{k=0}^M \\sum(\\mu(\\alpha,\\beta,k)D(\\alpha,\\beta)) = $'\n",
    "                                 +str(np.around(self.numerator,2))))\n",
    "                display(Markdown(r'$\\sum_{k=0}^M \\sum(\\mu(\\alpha,\\beta,k)) = $'\n",
    "                                 +str(np.around(self.denumerator,2))))\n",
    "                display(Markdown(r'$M = $'+str(float(self.N)-1)))\n",
    "\n",
    "                \n",
    "def weights(method,a_v,b_v,maxU):\n",
    "    alpha_grid = a_v\n",
    "    beta_grid = b_v\n",
    "    mu = np.zeros((len(alpha_grid[0]), len(alpha_grid[0])))\n",
    "    mu =  {\n",
    "           'uniform': np.where(alpha_grid>=beta_grid, maxU, np.nan),\n",
    "           'linear': np.where(alpha_grid==beta_grid, maxU, np.nan),\n",
    "           'top_heavy': np.where(alpha_grid>=beta_grid, alpha_grid, np.nan),\n",
    "           'bottom_heavy': np.where(alpha_grid>=beta_grid, maxU-alpha_grid, np.nan),\n",
    "           'right_heavy': np.where(alpha_grid>=beta_grid, beta_grid, np.nan),\n",
    "           'left_heavy': np.where(alpha_grid>=beta_grid, maxU-beta_grid, np.nan),\n",
    "           'center_light_alpha': np.where(alpha_grid>=beta_grid, np.abs(0.5*maxU-alpha_grid), np.nan),\n",
    "           'center_light_beta': np.where(alpha_grid>=beta_grid, np.abs(0.5*maxU-beta_grid), np.nan),\n",
    "           'single_line': np.where(np.logical_and(0.3*maxU<beta_grid, beta_grid<0.5*maxU), maxU, 0),\n",
    "           'upper_left': np.where(np.logical_and(0.2*maxU>beta_grid, alpha_grid>0.6*maxU), maxU, 0)\n",
    "    }[method]\n",
    "    mu = np.where(alpha_grid>=beta_grid, mu, np.nan)\n",
    "    return mu / np.nansum(mu)        \n",
    "\n",
    "\n",
    "\n",
    "N1 = 3\n",
    "N2 = 5\n",
    "\n",
    "alpha_value1 = np.around(np.linspace(0, N2-1, N2),2) # Grid of beta and alpha\n",
    "beta_value1 = np.around(np.linspace(0, N2-1, N2),2)\n",
    "beta_grid1, alpha_grid1 = np.meshgrid(beta_value1, alpha_value1)\n",
    "# Definding weights and stack them in a 3D array. The first axis represnet each whole weight\n",
    "wA1 = weights(\"top_heavy\",alpha_grid1,beta_grid1,N2)\n",
    "wA2 = weights(\"center_light_alpha\",alpha_grid1,beta_grid1,N2)\n",
    "wA3 = weights(\"upper_left\",alpha_grid1,beta_grid1,N2)\n",
    "WA= np.stack((wA1,wA2,wA3))\n",
    "f1 = F(beta_grid1,alpha_grid1,N1,WA,1)\n",
    "f1.plot_weight()\n",
    "f1.Macro_info()\n",
    "\n",
    "alpha_value2 = np.around(np.linspace(0, N1-1, N1),2)\n",
    "beta_value2 = np.around(np.linspace(0, N1-1, N1),2)\n",
    "beta_grid2, alpha_grid2 = np.meshgrid(beta_value2, alpha_value2)\n",
    "wB1 = weights(\"uniform\",alpha_grid2,beta_grid2,N1)\n",
    "wB2 = weights(\"top_heavy\",alpha_grid2,beta_grid2,N1)\n",
    "wB3 = weights(\"linear\",alpha_grid2,beta_grid2,N1)\n",
    "wB4 = weights(\"right_heavy\",alpha_grid2,beta_grid2,N1)\n",
    "wB5 = weights(\"left_heavy\",alpha_grid2,beta_grid2,N1)\n",
    "WB= np.stack((wB1,wB2,wB3,wB4,wB5))\n",
    "f2 = F(beta_grid2,alpha_grid2,N2,WB,2)\n",
    "f2.plot_weight()\n",
    "f2.Macro_info()"
   ]
  },
  {
   "cell_type": "markdown",
   "metadata": {},
   "source": [
    "## Final Calculation - Substitution:"
   ]
  },
  {
   "cell_type": "code",
   "execution_count": 175,
   "metadata": {},
   "outputs": [
    {
     "data": {
      "text/markdown": [
       "$R_f = 2 - \\frac{\\sqrt{2}}{M}\\frac{ \\displaystyle\\sum_k^N\\sum_{\\alpha\\geq \\beta}^M \\mu(\\alpha,\\beta, k) \\mathcal{D}(\\alpha,\\beta)}{\\displaystyle\\sum_k^N\\sum_{\\alpha\\geq \\beta}^M \\mu(\\alpha,\\beta, k)}-\\frac{\\sqrt{2}}{N}\\frac{ \\displaystyle\\sum_k^M\\sum_{\\alpha\\geq \\beta}^N \\nu(\\alpha,\\beta, k) \\mathcal{D}(\\alpha,\\beta)}{\\displaystyle\\sum_k^M\\sum_{\\alpha\\geq \\beta}^N \\nu(\\alpha,\\beta, k)}$"
      ],
      "text/plain": [
       "<IPython.core.display.Markdown object>"
      ]
     },
     "metadata": {},
     "output_type": "display_data"
    },
    {
     "data": {
      "text/markdown": [
       "$R_f = $1.1674512987012988"
      ],
      "text/plain": [
       "<IPython.core.display.Markdown object>"
      ]
     },
     "metadata": {},
     "output_type": "display_data"
    },
    {
     "data": {
      "text/markdown": [
       "$\\frac{R_f}{2}=$0.5837256493506494"
      ],
      "text/plain": [
       "<IPython.core.display.Markdown object>"
      ]
     },
     "metadata": {},
     "output_type": "display_data"
    }
   ],
   "source": [
    "display(Markdown(r\"$R_f = 2 - \\frac{\\sqrt{2}}{M}\\frac{ \\displaystyle\\sum_k^N\\sum_{\\alpha\\geq \\beta}^M \\mu(\\alpha,\\beta, k) \\mathcal{D}(\\alpha,\\beta)}{\\displaystyle\\sum_k^N\\sum_{\\alpha\\geq \\beta}^M \\mu(\\alpha,\\beta, k)}-\\frac{\\sqrt{2}}{N}\\frac{ \\displaystyle\\sum_k^M\\sum_{\\alpha\\geq \\beta}^N \\nu(\\alpha,\\beta, k) \\mathcal{D}(\\alpha,\\beta)}{\\displaystyle\\sum_k^M\\sum_{\\alpha\\geq \\beta}^N \\nu(\\alpha,\\beta, k)}$\"))\n",
    "display(Markdown(\n",
    "r\"$R_f = $\"+str(2 - f1.R_exp()- f2.R_exp())\n",
    "))\n",
    "display(Markdown(\n",
    "r\"$\\frac{R_f}{2}=$\"+str((2 - f1.R_exp()- f2.R_exp())/2)\n",
    "))\n"
   ]
  }
 ],
 "metadata": {
  "kernelspec": {
   "display_name": "Python 3",
   "language": "python",
   "name": "python3"
  },
  "language_info": {
   "codemirror_mode": {
    "name": "ipython",
    "version": 3
   },
   "file_extension": ".py",
   "mimetype": "text/x-python",
   "name": "python",
   "nbconvert_exporter": "python",
   "pygments_lexer": "ipython3",
   "version": "3.7.7"
  }
 },
 "nbformat": 4,
 "nbformat_minor": 4
}
